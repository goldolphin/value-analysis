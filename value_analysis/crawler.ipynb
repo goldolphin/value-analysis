{
 "cells": [
  {
   "cell_type": "code",
   "execution_count": 1,
   "metadata": {},
   "outputs": [],
   "source": [
    "from value_analysis.common import stock_table\n",
    "from value_analysis.crawler import *"
   ]
  },
  {
   "cell_type": "code",
   "execution_count": 2,
   "metadata": {},
   "outputs": [
    {
     "name": "stdout",
     "output_type": "stream",
     "text": [
      "Update report: 网易 ...\n",
      "Update report: 腾讯 ...\n",
      "Update report: 快手 ...\n",
      "Update report: 京东 ...\n",
      "Update report: 美团 ...\n",
      "Update report: 拼多多 ...\n",
      "Update report: 苹果 ...\n",
      "Update report: 微软 ...\n",
      "Update report: 英伟达 ...\n"
     ]
    }
   ],
   "source": [
    "# 更新财报数据\n",
    "for stock_name, stock_code in stock_table.items():\n",
    "    print(f\"Update report: {stock_name} ...\")\n",
    "    report = request_report(stock_code)\n",
    "    save_report(stock_code, report)\n"
   ]
  }
 ],
 "metadata": {
  "kernelspec": {
   "display_name": "value-analysis-BlwL20Mi-py3.11",
   "language": "python",
   "name": "python3"
  },
  "language_info": {
   "codemirror_mode": {
    "name": "ipython",
    "version": 3
   },
   "file_extension": ".py",
   "mimetype": "text/x-python",
   "name": "python",
   "nbconvert_exporter": "python",
   "pygments_lexer": "ipython3",
   "version": "3.11.7"
  }
 },
 "nbformat": 4,
 "nbformat_minor": 2
}
